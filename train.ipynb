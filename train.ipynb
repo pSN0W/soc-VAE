{
 "cells": [
  {
   "cell_type": "code",
   "execution_count": 1,
   "metadata": {},
   "outputs": [],
   "source": [
    "import pandas as pd\n",
    "import numpy as np\n",
    "from dataloader import SocialVAEDataset\n",
    "from social_vae import SocialVAE\n",
    "import torch\n",
    "from torch.utils import data as Data"
   ]
  },
  {
   "cell_type": "code",
   "execution_count": 2,
   "metadata": {},
   "outputs": [],
   "source": [
    "dataset = SocialVAEDataset('./train/biwi_hotel.txt',flip=True,scale=True)"
   ]
  },
  {
   "cell_type": "code",
   "execution_count": 3,
   "metadata": {},
   "outputs": [],
   "source": [
    "dataloader = Data.DataLoader(dataset,batch_size=16,shuffle=True,collate_fn=dataset.collate_fn)"
   ]
  },
  {
   "cell_type": "code",
   "execution_count": 4,
   "metadata": {},
   "outputs": [],
   "source": [
    "NUM_EPOCH = 10"
   ]
  },
  {
   "cell_type": "code",
   "execution_count": 5,
   "metadata": {},
   "outputs": [
    {
     "name": "stdout",
     "output_type": "stream",
     "text": [
      "cuda:0\n"
     ]
    }
   ],
   "source": [
    "device = torch.device(\"cuda:0\" if torch.cuda.is_available else \"cpu\")\n",
    "print(device)"
   ]
  },
  {
   "cell_type": "code",
   "execution_count": 9,
   "metadata": {},
   "outputs": [],
   "source": [
    "model = SocialVAE(12)\n",
    "model = model.to(device)"
   ]
  },
  {
   "cell_type": "code",
   "execution_count": 10,
   "metadata": {},
   "outputs": [],
   "source": [
    "optimizer = torch.optim.Adam(model.parameters(), lr=0.001)"
   ]
  },
  {
   "cell_type": "code",
   "execution_count": 11,
   "metadata": {},
   "outputs": [
    {
     "name": "stdout",
     "output_type": "stream",
     "text": [
      "1/10 Current Loss is  0.638924147983392\n",
      "2/10 Current Loss is  0.0863595983510216\n",
      "3/10 Current Loss is  0.07608557266493639\n",
      "4/10 Current Loss is  0.07323049820959565\n",
      "5/10 Current Loss is  0.08526808612048628\n",
      "6/10 Current Loss is  0.08558556719372672\n",
      "7/10 Current Loss is  0.0754988721261422\n",
      "8/10 Current Loss is  0.06520358032236499\n",
      "9/10 Current Loss is  0.06817335036893686\n",
      "10/10 Current Loss is  0.062164288982748984\n"
     ]
    }
   ],
   "source": [
    "losses = {}\n",
    "for epoch in range(1,NUM_EPOCH+1):\n",
    "    for batch, item in enumerate(dataloader):\n",
    "        res = model(*item)\n",
    "        loss = model.loss(*res)\n",
    "        loss[\"loss\"].backward()\n",
    "        optimizer.step()\n",
    "        optimizer.zero_grad()\n",
    "        for k, v in loss.items():\n",
    "            if k not in losses: \n",
    "                losses[k] = v.item()\n",
    "            else:\n",
    "                losses[k] = (losses[k]*batch+v.item())/(batch+1)\n",
    "    print(f'{epoch}/{NUM_EPOCH} Current Loss is ',losses[\"loss\"])"
   ]
  }
 ],
 "metadata": {
  "kernelspec": {
   "display_name": "Python 3.10.6 64-bit",
   "language": "python",
   "name": "python3"
  },
  "language_info": {
   "codemirror_mode": {
    "name": "ipython",
    "version": 3
   },
   "file_extension": ".py",
   "mimetype": "text/x-python",
   "name": "python",
   "nbconvert_exporter": "python",
   "pygments_lexer": "ipython3",
   "version": "3.10.6"
  },
  "orig_nbformat": 4,
  "vscode": {
   "interpreter": {
    "hash": "916dbcbb3f70747c44a77c7bcd40155683ae19c65e1c03b4aa3499c5328201f1"
   }
  }
 },
 "nbformat": 4,
 "nbformat_minor": 2
}
